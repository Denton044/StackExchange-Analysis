{
 "cells": [
  {
   "cell_type": "code",
   "execution_count": 100,
   "metadata": {},
   "outputs": [],
   "source": [
    "import numpy as np\n",
    "from keras.preprocessing.text import Tokenizer\n",
    "from keras.preprocessing.sequence import pad_sequences\n",
    "from keras.utils import to_categorical\n",
    "from keras.layers import Dense, Input, GlobalMaxPooling1D, Flatten\n",
    "from keras.layers import Conv1D, MaxPooling1D, Embedding\n",
    "from keras.models import Model, Sequential, load_model\n",
    "from CNN import get_wv_matrix\n",
    "import gensim\n",
    "import matplotlib.pyplot as plt\n",
    "from sklearn.model_selection import train_test_split\n",
    "from sklearn.metrics import f1_score\n",
    "%matplotlib inline\n",
    "import pickle\n",
    "from sklearn.linear_model import LogisticRegression\n",
    "from sklearn.multiclass import OneVsRestClassifier\n",
    "from sklearn.naive_bayes import MultinomialNB\n",
    "from sklearn.linear_model import SGDClassifier\n",
    "from sklearn.svm import LinearSVC\n",
    "from sklearn.ensemble import RandomForestClassifier\n",
    "import pandas as pd\n",
    "import h5py\n",
    "import sys"
   ]
  },
  {
   "cell_type": "code",
   "execution_count": 3,
   "metadata": {
    "collapsed": true
   },
   "outputs": [],
   "source": [
    "dev_set_ids = np.load('dev_set_text_ids.npy')\n",
    "w2vec_model = gensim.models.Word2Vec.load('w2vec_genism')\n",
    "vocabulary = w2vec_model.wv.vocab"
   ]
  },
  {
   "cell_type": "code",
   "execution_count": 6,
   "metadata": {},
   "outputs": [
    {
     "data": {
      "text/plain": [
       "1395"
      ]
     },
     "execution_count": 6,
     "metadata": {},
     "output_type": "execute_result"
    }
   ],
   "source": [
    "seq_len = []\n",
    "\n",
    "for post in dev_set_ids:\n",
    "    seq_len.append(len(post))\n",
    "\n"
   ]
  },
  {
   "cell_type": "code",
   "execution_count": 30,
   "metadata": {},
   "outputs": [
    {
     "data": {
      "text/plain": [
       "array([[   46,   127,   117, ...,     0,     0,     0],\n",
       "       [ 1214,    43,   897, ...,     0,     0,     0],\n",
       "       [   13,    32,   100, ...,     0,     0,     0],\n",
       "       ..., \n",
       "       [ 1306,  1343,    45, ...,     0,     0,     0],\n",
       "       [59703, 59703,   452, ..., 59703,     0,     0],\n",
       "       [   46,    24,    53, ...,     0,     0,     0]], dtype=int32)"
      ]
     },
     "execution_count": 30,
     "metadata": {},
     "output_type": "execute_result"
    }
   ],
   "source": [
    "words_to_consider = 100\n",
    "data=pad_sequences(dev_set_ids, maxlen=words_to_consider, padding='post', truncating='post', value=0)\n",
    "data"
   ]
  },
  {
   "cell_type": "code",
   "execution_count": 27,
   "metadata": {
    "collapsed": true
   },
   "outputs": [],
   "source": [
    "embedding_matrix = get_wv_matrix(w2vec_model)"
   ]
  },
  {
   "cell_type": "code",
   "execution_count": 31,
   "metadata": {
    "collapsed": true
   },
   "outputs": [],
   "source": [
    "embeddings = Embedding(input_dim=embedding_matrix.shape[0], output_dim=embedding_matrix.shape[1],\n",
    "                      weights=[embedding_matrix], input_length = words_to_consider)\n"
   ]
  },
  {
   "cell_type": "code",
   "execution_count": 29,
   "metadata": {},
   "outputs": [
    {
     "data": {
      "text/plain": [
       "<keras.layers.embeddings.Embedding at 0x1af1283320>"
      ]
     },
     "execution_count": 29,
     "metadata": {},
     "output_type": "execute_result"
    }
   ],
   "source": [
    "sequence_input = Input(shape=(words_to_consider,), dtype='int32')\n",
    "embedded_sequences = embeddings(sequence_input)\n",
    "x = Conv1D(128, 5)"
   ]
  },
  {
   "cell_type": "code",
   "execution_count": null,
   "metadata": {
    "collapsed": true
   },
   "outputs": [],
   "source": []
  },
  {
   "cell_type": "markdown",
   "metadata": {},
   "source": [
    "## ok lets test it out"
   ]
  },
  {
   "cell_type": "code",
   "execution_count": 4,
   "metadata": {
    "collapsed": true
   },
   "outputs": [],
   "source": [
    "#first need f1 score\n",
    "\n",
    "from keras import backend as K\n",
    "\n",
    "def f1(y_true, y_pred):\n",
    "    def recall(y_true, y_pred):\n",
    "        \"\"\"Recall metric.\n",
    "\n",
    "        Only computes a batch-wise average of recall.\n",
    "\n",
    "        Computes the recall, a metric for multi-label classification of\n",
    "        how many relevant items are selected.\n",
    "        \"\"\"\n",
    "        true_positives = K.sum(K.round(K.clip(y_true * y_pred, 0, 1)))\n",
    "        possible_positives = K.sum(K.round(K.clip(y_true, 0, 1)))\n",
    "        recall = true_positives / (possible_positives + K.epsilon())\n",
    "        return recall\n",
    "\n",
    "    def precision(y_true, y_pred):\n",
    "        \"\"\"Precision metric.\n",
    "\n",
    "        Only computes a batch-wise average of precision.\n",
    "\n",
    "        Computes the precision, a metric for multi-label classification of\n",
    "        how many selected items are relevant.\n",
    "        \"\"\"\n",
    "        true_positives = K.sum(K.round(K.clip(y_true * y_pred, 0, 1)))\n",
    "        predicted_positives = K.sum(K.round(K.clip(y_pred, 0, 1)))\n",
    "        precision = true_positives / (predicted_positives + K.epsilon())\n",
    "        return precision\n",
    "    precision = precision(y_true, y_pred)\n",
    "    recall = recall(y_true, y_pred)\n",
    "    return 2*((precision*recall)/(precision+recall+K.epsilon()))\n"
   ]
  },
  {
   "cell_type": "code",
   "execution_count": 5,
   "metadata": {
    "collapsed": true
   },
   "outputs": [],
   "source": [
    "dev_set_ids = np.load('dev_set_text_ids.npy')\n",
    "dev_set_labels = np.load('dev_set_labels')\n",
    "w2vec_model = gensim.models.Word2Vec.load('w2vec_genism')\n",
    "vocabulary = w2vec_model.wv.vocab"
   ]
  },
  {
   "cell_type": "code",
   "execution_count": 86,
   "metadata": {
    "collapsed": true
   },
   "outputs": [],
   "source": [
    "#split into train, test split\n",
    "words_to_consider = 100\n",
    "data=pad_sequences(dev_set_ids, maxlen=words_to_consider, padding='post', truncating='post', value=0)\n",
    "\n",
    "dev_set_ids.shape[0]==dev_set_labels.shape[0]\n",
    "\n",
    "x_train, x_validate, y_train, y_validate = train_test_split(data, dev_set_labels, \n",
    "                                                            test_size=0.2, random_state=42)\n"
   ]
  },
  {
   "cell_type": "code",
   "execution_count": 87,
   "metadata": {},
   "outputs": [
    {
     "name": "stdout",
     "output_type": "stream",
     "text": [
      "\tcompiler settings complete!\n",
      "Train on 501932 samples, validate on 125484 samples\n",
      "Epoch 1/5\n",
      " - 316s - loss: 0.1275 - f1: 0.6359 - val_loss: 0.0901 - val_f1: 0.7802\n",
      "Epoch 2/5\n",
      " - 313s - loss: 0.0845 - f1: 0.7932 - val_loss: 0.0855 - val_f1: 0.7892\n",
      "Epoch 3/5\n",
      " - 312s - loss: 0.0775 - f1: 0.8108 - val_loss: 0.0848 - val_f1: 0.7941\n",
      "Epoch 4/5\n",
      " - 313s - loss: 0.0716 - f1: 0.8254 - val_loss: 0.0859 - val_f1: 0.7955\n",
      "Epoch 5/5\n",
      " - 312s - loss: 0.0655 - f1: 0.8408 - val_loss: 0.0881 - val_f1: 0.7925\n"
     ]
    },
    {
     "data": {
      "text/plain": [
       "<keras.callbacks.History at 0x1aceba2198>"
      ]
     },
     "execution_count": 87,
     "metadata": {},
     "output_type": "execute_result"
    }
   ],
   "source": [
    "embedding_matrix = get_wv_matrix(w2vec_model)\n",
    "\n",
    "embeddings = Embedding(input_dim=embedding_matrix.shape[0], output_dim=embedding_matrix.shape[1],\n",
    "                      weights=[embedding_matrix], input_length = words_to_consider)\n",
    "\n",
    "\n",
    "cnn_test = Sequential()\n",
    "\n",
    "#first conv layer + max pool\n",
    "cnn_test.add(embeddings)\n",
    "cnn_test.add(Conv1D(filters=100, kernel_size = 5, activation = 'relu', strides = 1))\n",
    "cnn_test.add(MaxPooling1D(5))\n",
    "\n",
    "# #2nd conv layer + max pooling\n",
    "# cnn_test.add(Conv1D(filters =100, kernel_size = 2, activation='relu'))\n",
    "# cnn_test.add(MaxPooling1D(5))\n",
    "\n",
    "#flatten and then connect\n",
    "cnn_test.add(Flatten())\n",
    "cnn_test.add(Dense(256, activation = 'relu'))\n",
    "\n",
    "#output layer with sigmoid activation\n",
    "cnn_test.add(Dense(y_train.shape[1], activation = 'sigmoid'))\n",
    "\n",
    "# Compile settings\n",
    "print('\\tcompiler settings complete!')\n",
    "cnn_test.compile(optimizer = 'adam', loss = 'binary_crossentropy', metrics = [f1])\n",
    "\n",
    "cnn_test.fit(x_train, y_train, validation_data=(x_validate, y_validate), epochs = 5, batch_size= 1000, verbose=2)"
   ]
  },
  {
   "cell_type": "code",
   "execution_count": 55,
   "metadata": {},
   "outputs": [
    {
     "name": "stdout",
     "output_type": "stream",
     "text": [
      "_________________________________________________________________\n",
      "Layer (type)                 Output Shape              Param #   \n",
      "=================================================================\n",
      "embedding_8 (Embedding)      (None, 100, 150)          8955300   \n",
      "_________________________________________________________________\n",
      "conv1d_8 (Conv1D)            (None, 96, 100)           75100     \n",
      "_________________________________________________________________\n",
      "max_pooling1d_8 (MaxPooling1 (None, 19, 100)           0         \n",
      "_________________________________________________________________\n",
      "conv1d_9 (Conv1D)            (None, 18, 100)           20100     \n",
      "_________________________________________________________________\n",
      "max_pooling1d_9 (MaxPooling1 (None, 3, 100)            0         \n",
      "_________________________________________________________________\n",
      "flatten_4 (Flatten)          (None, 300)               0         \n",
      "_________________________________________________________________\n",
      "dense_7 (Dense)              (None, 256)               77056     \n",
      "_________________________________________________________________\n",
      "dense_8 (Dense)              (None, 15)                3855      \n",
      "=================================================================\n",
      "Total params: 9,131,411\n",
      "Trainable params: 9,131,411\n",
      "Non-trainable params: 0\n",
      "_________________________________________________________________\n"
     ]
    }
   ],
   "source": [
    "cnn_test.summary()"
   ]
  },
  {
   "cell_type": "code",
   "execution_count": 56,
   "metadata": {
    "collapsed": true
   },
   "outputs": [],
   "source": [
    "cnn_test.save('cnn_model.h5')"
   ]
  },
  {
   "cell_type": "markdown",
   "metadata": {},
   "source": [
    "Now lets predict"
   ]
  },
  {
   "cell_type": "code",
   "execution_count": 6,
   "metadata": {
    "collapsed": true
   },
   "outputs": [],
   "source": [
    "x_test = np.load('hold_set_text_ids.npy')\n",
    "y_test = np.load('hold_set_labels')\n",
    "\n",
    "words_to_consider = 100\n",
    "\n",
    "x_test=pad_sequences(x_test, maxlen=words_to_consider, padding='post', truncating='post', value=0)\n"
   ]
  },
  {
   "cell_type": "code",
   "execution_count": 10,
   "metadata": {},
   "outputs": [],
   "source": [
    "model =load_model('cnn_model.h5', custom_objects={\"f1\": f1})\n"
   ]
  },
  {
   "cell_type": "code",
   "execution_count": 88,
   "metadata": {
    "collapsed": true
   },
   "outputs": [],
   "source": [
    "y_predict = cnn_test.predict(x_test, batch_size=1000)"
   ]
  },
  {
   "cell_type": "code",
   "execution_count": 89,
   "metadata": {},
   "outputs": [
    {
     "data": {
      "text/plain": [
       "array([[ 0.,  0.,  0., ...,  0.,  0.,  0.],\n",
       "       [ 0.,  0.,  0., ...,  1.,  0.,  0.],\n",
       "       [ 0.,  0.,  1., ...,  0.,  0.,  0.],\n",
       "       ..., \n",
       "       [ 0.,  1.,  0., ...,  0.,  0.,  0.],\n",
       "       [ 0.,  0.,  0., ...,  0.,  0.,  0.],\n",
       "       [ 0.,  0.,  0., ...,  0.,  0.,  0.]], dtype=float32)"
      ]
     },
     "execution_count": 89,
     "metadata": {},
     "output_type": "execute_result"
    }
   ],
   "source": [
    "y_rounded = np.round(y_predict)\n",
    "y_rounded"
   ]
  },
  {
   "cell_type": "code",
   "execution_count": 90,
   "metadata": {},
   "outputs": [
    {
     "data": {
      "text/plain": [
       "0.77172837930078542"
      ]
     },
     "execution_count": 90,
     "metadata": {},
     "output_type": "execute_result"
    }
   ],
   "source": [
    "f1_score(y_test, y_rounded, average='macro')"
   ]
  },
  {
   "cell_type": "code",
   "execution_count": 11,
   "metadata": {},
   "outputs": [],
   "source": [
    "y_predict1 = model.predict(x_test, batch_size=1000)"
   ]
  },
  {
   "cell_type": "code",
   "execution_count": 13,
   "metadata": {},
   "outputs": [],
   "source": [
    "y_rounded = np.round(y_predict1)\n",
    "cnn_f1 = f1_score(y_test, y_rounded, average='macro')"
   ]
  },
  {
   "cell_type": "code",
   "execution_count": 91,
   "metadata": {},
   "outputs": [
    {
     "data": {
      "text/plain": [
       "0.77122382989816884"
      ]
     },
     "execution_count": 91,
     "metadata": {},
     "output_type": "execute_result"
    }
   ],
   "source": [
    "cnn_f1"
   ]
  },
  {
   "cell_type": "markdown",
   "metadata": {},
   "source": [
    "# Other models"
   ]
  },
  {
   "cell_type": "code",
   "execution_count": 31,
   "metadata": {
    "collapsed": true
   },
   "outputs": [],
   "source": [
    "X= np.load('dev_set_text')\n",
    "Y = np.load('dev_set_labels')\n",
    "X_test = np.load('hold_set_text')"
   ]
  },
  {
   "cell_type": "code",
   "execution_count": 21,
   "metadata": {},
   "outputs": [],
   "source": [
    "vect_pkl_filename = 'Tfidf_vect_trigrams.pkl'\n",
    "vect_model_pkl = open(vect_pkl_filename, 'rb')\n",
    "tfid_vect_model = pickle.load(vect_model_pkl)\n",
    "vect_model_pkl.close()"
   ]
  },
  {
   "cell_type": "code",
   "execution_count": 32,
   "metadata": {},
   "outputs": [
    {
     "name": "stdout",
     "output_type": "stream",
     "text": [
      "0.731728843387\n"
     ]
    }
   ],
   "source": [
    "\n",
    "X_transform = tfid_vect_model.transform(X)\n",
    "\n",
    "SVC_classifier = OneVsRestClassifier(LinearSVC())\n",
    "SVC_classifier.fit(X_transform, Y)\n",
    "\n",
    "X_test_bigram = tfid_vect_model.transform(X_test)\n",
    "prediction_bigram = SVC_classifier.predict(X_test_bigram)\n",
    "\n",
    "print(f1_score(y_test, prediction_bigram, average='macro'))"
   ]
  },
  {
   "cell_type": "code",
   "execution_count": 34,
   "metadata": {},
   "outputs": [
    {
     "data": {
      "text/plain": [
       "0.73172884338662714"
      ]
     },
     "execution_count": 34,
     "metadata": {},
     "output_type": "execute_result"
    }
   ],
   "source": [
    "svc_f1= f1_score(y_test, prediction_bigram, average='macro')\n",
    "svc_f1"
   ]
  },
  {
   "cell_type": "code",
   "execution_count": 36,
   "metadata": {},
   "outputs": [
    {
     "name": "stdout",
     "output_type": "stream",
     "text": [
      "0.718608883326\n"
     ]
    }
   ],
   "source": [
    "LR_classifier = OneVsRestClassifier(LogisticRegression(solver=\"sag\"))\n",
    "LR_classifier.fit(X_transform, Y)\n",
    "\n",
    "X_test_bigram = tfid_vect_model.transform(X_test)\n",
    "LR_predict = LR_classifier.predict(X_test_bigram)\n",
    "\n",
    "LR_f1 = f1_score(y_test, LR_predict, average='macro')\n",
    "print(LR_f1)"
   ]
  },
  {
   "cell_type": "code",
   "execution_count": 37,
   "metadata": {},
   "outputs": [
    {
     "name": "stdout",
     "output_type": "stream",
     "text": [
      "0.634222498244\n"
     ]
    }
   ],
   "source": [
    "NB_classifier = OneVsRestClassifier(MultinomialNB())\n",
    "NB_classifier.fit(X_transform, Y)\n",
    "\n",
    "X_test_bigram = tfid_vect_model.transform(X_test)\n",
    "NB_predict = NB_classifier.predict(X_test_bigram)\n",
    "\n",
    "NB_f1 = f1_score(y_test, NB_predict, average='macro')\n",
    "print(NB_f1)"
   ]
  },
  {
   "cell_type": "code",
   "execution_count": 42,
   "metadata": {},
   "outputs": [
    {
     "name": "stdout",
     "output_type": "stream",
     "text": [
      "0.664431672466\n"
     ]
    }
   ],
   "source": [
    "RF_classifier = OneVsRestClassifier(RandomForestClassifier(n_estimators=100, n_jobs=-1, class_weight=\"balanced\"))\n",
    "RF_classifier.fit(X_transform, Y)\n",
    "\n",
    "X_test_bigram = tfid_vect_model.transform(X_test)\n",
    "RF_predict = RF_classifier.predict(X_test_bigram)\n",
    "\n",
    "RF_f1 = f1_score(y_test, RF_predict, average='macro')\n",
    "print(RF_f1)"
   ]
  },
  {
   "cell_type": "code",
   "execution_count": 51,
   "metadata": {},
   "outputs": [],
   "source": [
    "f1_scores = pd.Series([NB_f1, RF_f1, LR_f1, svc_f1, cnn_f1], index = ['MNB', 'RF', 'LR', 'SVC', 'CNN'])"
   ]
  },
  {
   "cell_type": "code",
   "execution_count": 80,
   "metadata": {},
   "outputs": [
    {
     "data": {
      "image/png": "[encoded data removed]",
      "text/plain": [
       "<matplotlib.figure.Figure at 0x1aceba77f0>"
      ]
     },
     "metadata": {},
     "output_type": "display_data"
    }
   ],
   "source": [
    "color_map = ['red','orange', 'green', 'blue', 'purple']\n",
    "plt.bar(f1_scores.index, f1_scores.values, alpha=0.7, color=color_map)\n",
    "plt.ylim(ymin=0.55)\n",
    "plt.title('F1 Score By Classification Model')\n",
    "plt.ylabel('F1 Score (Macro)')\n",
    "plt.xlabel('Classification Model')\n",
    "None\n",
    "    "
   ]
  },
  {
   "cell_type": "code",
   "execution_count": 97,
   "metadata": {},
   "outputs": [],
   "source": [
    "models = [NB_classifier, LR_classifier, SVC_classifier]\n",
    "names = ['NB_classifier', 'LR_classifier', 'SVC_classifier']\n",
    "for model, name in zip(models, names):\n",
    "    pickle_file = open(name+'.pkl', 'wb')\n",
    "    pickle.dump(model, pickle_file)\n",
    "    pickle_file.close()\n",
    "    "
   ]
  },
  {
   "cell_type": "code",
   "execution_count": 96,
   "metadata": {},
   "outputs": [
    {
     "ename": "OSError",
     "evalue": "[Errno 22] Invalid argument",
     "output_type": "error",
     "traceback": [
      "\u001b[0;31m---------------------------------------------------------------------------\u001b[0m",
      "\u001b[0;31mOSError\u001b[0m                                   Traceback (most recent call last)",
      "\u001b[0;32m<ipython-input-96-69b14e5aa538>\u001b[0m in \u001b[0;36m<module>\u001b[0;34m()\u001b[0m\n\u001b[0;32m----> 1\u001b[0;31m \u001b[0mpickle\u001b[0m\u001b[0;34m.\u001b[0m\u001b[0mdump\u001b[0m\u001b[0;34m(\u001b[0m\u001b[0mRF_classifier\u001b[0m\u001b[0;34m,\u001b[0m \u001b[0mopen\u001b[0m\u001b[0;34m(\u001b[0m\u001b[0;34m'RF_classifier.pkl'\u001b[0m\u001b[0;34m,\u001b[0m \u001b[0;34m'wb'\u001b[0m\u001b[0;34m)\u001b[0m\u001b[0;34m)\u001b[0m\u001b[0;34m\u001b[0m\u001b[0m\n\u001b[0m",
      "\u001b[0;31mOSError\u001b[0m: [Errno 22] Invalid argument"
     ]
    }
   ],
   "source": [
    "pickle.dump(RF_classifier, open('RF_classifier.pkl', 'wb'))"
   ]
  },
  {
   "cell_type": "code",
   "execution_count": 98,
   "metadata": {
    "collapsed": true
   },
   "outputs": [],
   "source": [
    "def save_as_pickled_object(obj, filepath):\n",
    "    \"\"\"\n",
    "    This is a defensive way to write pickle.write, allowing for very large files on all platforms\n",
    "    \"\"\"\n",
    "    max_bytes = 2**31 - 1\n",
    "    bytes_out = pickle.dumps(obj)\n",
    "    n_bytes = sys.getsizeof(bytes_out)\n",
    "    with open(filepath, 'wb') as f_out:\n",
    "        for idx in range(0, n_bytes, max_bytes):\n",
    "            f_out.write(bytes_out[idx:idx+max_bytes])\n",
    "\n",
    "\n",
    "def try_to_load_as_pickled_object_or_None(filepath):\n",
    "    \"\"\"\n",
    "    This is a defensive way to write pickle.load, allowing for very large files on all platforms\n",
    "    \"\"\"\n",
    "    max_bytes = 2**31 - 1\n",
    "    try:\n",
    "        input_size = os.path.getsize(filepath)\n",
    "        bytes_in = bytearray(0)\n",
    "        with open(filepath, 'rb') as f_in:\n",
    "            for _ in range(0, input_size, max_bytes):\n",
    "                bytes_in += f_in.read(max_bytes)\n",
    "        obj = pickle.loads(bytes_in)\n",
    "    except:\n",
    "        return None\n",
    "    return obj"
   ]
  },
  {
   "cell_type": "code",
   "execution_count": 101,
   "metadata": {},
   "outputs": [],
   "source": [
    "save_as_pickled_object(RF_classifier, 'RF_classifier.pkl')"
   ]
  },
  {
   "cell_type": "code",
   "execution_count": 102,
   "metadata": {
    "collapsed": true
   },
   "outputs": [],
   "source": [
    "RF_reloaded = try_to_load_as_pickled_object_or_None(\"RF_classifier.pkl\")"
   ]
  },
  {
   "cell_type": "code",
   "execution_count": 103,
   "metadata": {
    "collapsed": true
   },
   "outputs": [],
   "source": []
  },
  {
   "cell_type": "code",
   "execution_count": null,
   "metadata": {
    "collapsed": true
   },
   "outputs": [],
   "source": []
  }
 ],
 "metadata": {
  "kernelspec": {
   "display_name": "Python 3",
   "language": "python",
   "name": "python3"
  },
  "language_info": {
   "codemirror_mode": {
    "name": "ipython",
    "version": 3
   },
   "file_extension": ".py",
   "mimetype": "text/x-python",
   "name": "python",
   "nbconvert_exporter": "python",
   "pygments_lexer": "ipython3",
   "version": "3.6.3"
  }
 },
 "nbformat": 4,
 "nbformat_minor": 2
}
