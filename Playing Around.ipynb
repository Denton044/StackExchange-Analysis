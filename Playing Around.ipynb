{
 "cells": [
  {
   "cell_type": "code",
   "execution_count": 33,
   "metadata": {},
   "outputs": [],
   "source": [
    "import pyspark as ps\n",
    "import warnings\n",
    "from pyspark.sql import *\n",
    "from pyspark.sql import functions as F\n"
   ]
  },
  {
   "cell_type": "code",
   "execution_count": 2,
   "metadata": {},
   "outputs": [
    {
     "name": "stderr",
     "output_type": "stream",
     "text": [
      "/anaconda3/lib/python3.6/site-packages/ipykernel_launcher.py:7: UserWarning: SparkContext already exists in this scope\n",
      "  import sys\n"
     ]
    }
   ],
   "source": [
    "try:\n",
    "    # we try to create a SparkContext to work locally on all cpus available\n",
    "    sc = ps.SparkContext('local[4]')\n",
    "    print(\"Just created a SparkContext\")\n",
    "except ValueError:\n",
    "    # give a warning if SparkContext already exists (for use inside pyspark)\n",
    "    warnings.warn(\"SparkContext already exists in this scope\")"
   ]
  },
  {
   "cell_type": "code",
   "execution_count": 3,
   "metadata": {},
   "outputs": [
    {
     "data": {
      "text/html": [
       "\n",
       "        <div>\n",
       "            <p><b>SparkContext</b></p>\n",
       "\n",
       "            <p><a href=\"http://10.3.32.141:4040\">Spark UI</a></p>\n",
       "\n",
       "            <dl>\n",
       "              <dt>Version</dt>\n",
       "                <dd><code>v2.3.0</code></dd>\n",
       "              <dt>Master</dt>\n",
       "                <dd><code>local[4]</code></dd>\n",
       "              <dt>AppName</dt>\n",
       "                <dd><code>PySparkShell</code></dd>\n",
       "            </dl>\n",
       "        </div>\n",
       "        "
      ],
      "text/plain": [
       "<SparkContext master=local[4] appName=PySparkShell>"
      ]
     },
     "execution_count": 3,
     "metadata": {},
     "output_type": "execute_result"
    }
   ],
   "source": [
    "sc"
   ]
  },
  {
   "cell_type": "markdown",
   "metadata": {},
   "source": [
    "### Load in the data into two tables:"
   ]
  },
  {
   "cell_type": "code",
   "execution_count": 75,
   "metadata": {
    "collapsed": true
   },
   "outputs": [],
   "source": [
    "df = spark.read.csv('csvs/posts.csv',\n",
    "                         header=True,       # use headers or not\n",
    "                         quote='\"',         # char for quotes\n",
    "                         sep=\",\",           # char for separation\n",
    "                         inferSchema=True)  # do we infer schema or not ?\n",
    "df = df.selectExpr(\"`postId:ID(Post)` as post_id\", 'title as title', 'body as body')\n"
   ]
  },
  {
   "cell_type": "code",
   "execution_count": 5,
   "metadata": {
    "collapsed": true
   },
   "outputs": [],
   "source": [
    "tags = spark.read.csv('csvs/tags_posts_rel.csv',\n",
    "                         header=True,       # use headers or not\n",
    "                         quote='\"',         # char for quotes\n",
    "                         sep=\",\",           # char for separation\n",
    "                         inferSchema=True)"
   ]
  },
  {
   "cell_type": "code",
   "execution_count": 76,
   "metadata": {},
   "outputs": [
    {
     "name": "stdout",
     "output_type": "stream",
     "text": [
      "+-------+--------------------+--------------------+\n",
      "|post_id|               title|                body|\n",
      "+-------+--------------------+--------------------+\n",
      "|      4|While applying op...|<p>I want to use ...|\n",
      "|      6|Percentage width ...|<p>I have an abso...|\n",
      "+-------+--------------------+--------------------+\n",
      "only showing top 2 rows\n",
      "\n"
     ]
    }
   ],
   "source": [
    "df.show(2)"
   ]
  },
  {
   "cell_type": "code",
   "execution_count": 7,
   "metadata": {},
   "outputs": [
    {
     "name": "stdout",
     "output_type": "stream",
     "text": [
      "+---------------+-------------------+\n",
      "|:START_ID(Post)|       :END_ID(Tag)|\n",
      "+---------------+-------------------+\n",
      "|              4|                 c#|\n",
      "|              4|           winforms|\n",
      "|              4|    type-conversion|\n",
      "|              4|            decimal|\n",
      "|              4|            opacity|\n",
      "|              6|               html|\n",
      "|              6|                css|\n",
      "|              6|               css3|\n",
      "|              6|internet-explorer-7|\n",
      "|              9|                 c#|\n",
      "+---------------+-------------------+\n",
      "only showing top 10 rows\n",
      "\n"
     ]
    }
   ],
   "source": [
    "tags.show(2)"
   ]
  },
  {
   "cell_type": "code",
   "execution_count": 8,
   "metadata": {},
   "outputs": [
    {
     "data": {
      "text/plain": [
       "39646923"
      ]
     },
     "execution_count": 8,
     "metadata": {},
     "output_type": "execute_result"
    }
   ],
   "source": [
    "df.count()"
   ]
  },
  {
   "cell_type": "code",
   "execution_count": 9,
   "metadata": {},
   "outputs": [
    {
     "name": "stdout",
     "output_type": "stream",
     "text": [
      "root\n",
      " |-- postId:ID(Post): integer (nullable = true)\n",
      " |-- title: string (nullable = true)\n",
      " |-- body: string (nullable = true)\n",
      " |-- score: integer (nullable = true)\n",
      " |-- views: integer (nullable = true)\n",
      " |-- comments: integer (nullable = true)\n",
      "\n"
     ]
    }
   ],
   "source": [
    "df = \n",
    "df.printSchema()"
   ]
  },
  {
   "cell_type": "code",
   "execution_count": 13,
   "metadata": {},
   "outputs": [
    {
     "name": "stdout",
     "output_type": "stream",
     "text": [
      "root\n",
      " |-- :START_ID(Post): integer (nullable = true)\n",
      " |-- :END_ID(Tag): string (nullable = true)\n",
      "\n"
     ]
    }
   ],
   "source": [
    "tags.printSchema()"
   ]
  },
  {
   "cell_type": "markdown",
   "metadata": {},
   "source": [
    "### Going to first take a look at the tags and see how many we are working with here"
   ]
  },
  {
   "cell_type": "code",
   "execution_count": 62,
   "metadata": {},
   "outputs": [
    {
     "name": "stdout",
     "output_type": "stream",
     "text": [
      "+-------+--------+\n",
      "|post_id|     tag|\n",
      "+-------+--------+\n",
      "|      4|      c#|\n",
      "|      4|winforms|\n",
      "+-------+--------+\n",
      "only showing top 2 rows\n",
      "\n",
      "root\n",
      " |-- post_id: integer (nullable = true)\n",
      " |-- tag: string (nullable = true)\n",
      "\n"
     ]
    }
   ],
   "source": [
    "#lets first rename the ugly columns\n",
    "\n",
    "tags = tags.selectExpr(\"`:START_ID(Post)` as post_id\", \"`:END_ID(Tag)` as tag\")\n",
    "tags.show(2)\n",
    "tags.printSchema()"
   ]
  },
  {
   "cell_type": "markdown",
   "metadata": {},
   "source": [
    "Lets select only tags that have over 50k posts, that should give us plenty to work with"
   ]
  },
  {
   "cell_type": "code",
   "execution_count": 63,
   "metadata": {
    "collapsed": true
   },
   "outputs": [],
   "source": [
    "tags.registerTempTable('post_tags')"
   ]
  },
  {
   "cell_type": "code",
   "execution_count": 64,
   "metadata": {},
   "outputs": [],
   "source": [
    "tags_with_50k = spark.sql(\"\"\"\n",
    "                    SELECT tag\n",
    "                    FROM post_tags\n",
    "                    GROUP BY tag\n",
    "                    HAVING COUNT(post_id) > 50000\n",
    "                    \"\"\")\n",
    "tags_with_50k.registerTempTable('top_tags')\n"
   ]
  },
  {
   "cell_type": "code",
   "execution_count": 65,
   "metadata": {},
   "outputs": [
    {
     "name": "stdout",
     "output_type": "stream",
     "text": [
      "+-------------------+\n",
      "|                tag|\n",
      "+-------------------+\n",
      "|                 qt|\n",
      "|             iphone|\n",
      "|              xcode|\n",
      "|              azure|\n",
      "|            android|\n",
      "|          algorithm|\n",
      "|         postgresql|\n",
      "|            angular|\n",
      "|           winforms|\n",
      "|         powershell|\n",
      "|            node.js|\n",
      "|                 c#|\n",
      "|     multithreading|\n",
      "|            cordova|\n",
      "|                api|\n",
      "|             vb.net|\n",
      "|        google-maps|\n",
      "|             spring|\n",
      "|               html|\n",
      "|            asp.net|\n",
      "|               perl|\n",
      "|               linq|\n",
      "|    sql-server-2008|\n",
      "|            mongodb|\n",
      "|              excel|\n",
      "|           database|\n",
      "|              forms|\n",
      "|               json|\n",
      "|               ruby|\n",
      "|             pandas|\n",
      "|              mysql|\n",
      "|   entity-framework|\n",
      "|              macos|\n",
      "|       web-services|\n",
      "|               ajax|\n",
      "|              html5|\n",
      "|  twitter-bootstrap|\n",
      "|              loops|\n",
      "|             jquery|\n",
      "|         javascript|\n",
      "|            eclipse|\n",
      "|                css|\n",
      "|amazon-web-services|\n",
      "|             arrays|\n",
      "|               bash|\n",
      "|                sql|\n",
      "|             string|\n",
      "|              scala|\n",
      "|                xml|\n",
      "|         sql-server|\n",
      "|             apache|\n",
      "|              regex|\n",
      "|    ruby-on-rails-3|\n",
      "|            sorting|\n",
      "|               file|\n",
      "|               rest|\n",
      "|           function|\n",
      "|        uitableview|\n",
      "|            laravel|\n",
      "|                c++|\n",
      "|          hibernate|\n",
      "|      visual-studio|\n",
      "|          wordpress|\n",
      "|            symfony|\n",
      "|                  c|\n",
      "|                wpf|\n",
      "|                csv|\n",
      "|              shell|\n",
      "|        codeigniter|\n",
      "|          .htaccess|\n",
      "|               list|\n",
      "|      google-chrome|\n",
      "|        objective-c|\n",
      "|              class|\n",
      "|         validation|\n",
      "|             sqlite|\n",
      "|              linux|\n",
      "|              swift|\n",
      "|        asp.net-mvc|\n",
      "|            reactjs|\n",
      "|        performance|\n",
      "|              maven|\n",
      "|          excel-vba|\n",
      "|               java|\n",
      "|                git|\n",
      "|                  r|\n",
      "|                php|\n",
      "|               .net|\n",
      "|       unit-testing|\n",
      "|             django|\n",
      "|            sockets|\n",
      "|               css3|\n",
      "|              image|\n",
      "|                vba|\n",
      "|         python-3.x|\n",
      "|         python-2.7|\n",
      "|             matlab|\n",
      "|                ios|\n",
      "|             python|\n",
      "|          angularjs|\n",
      "+-------------------+\n",
      "only showing top 100 rows\n",
      "\n"
     ]
    }
   ],
   "source": [
    "tags_with_50k.show(100)"
   ]
  },
  {
   "cell_type": "markdown",
   "metadata": {},
   "source": [
    "Now that we have all those tags lets fish out relevant ids and posts we will be working with this will become our data to analyze"
   ]
  },
  {
   "cell_type": "code",
   "execution_count": 78,
   "metadata": {},
   "outputs": [],
   "source": [
    "##Lets fish out posts with tags with over 50k\n",
    "inner_join = spark.sql(\"\"\"\n",
    "                    SELECT DISTINCT post_tags.post_id as post_id\n",
    "                    FROM post_tags\n",
    "                    INNER JOIN top_tags\n",
    "                    ON post_tags.tag = top_tags.tag\n",
    "                    \"\"\")\n"
   ]
  },
  {
   "cell_type": "code",
   "execution_count": 79,
   "metadata": {},
   "outputs": [
    {
     "name": "stdout",
     "output_type": "stream",
     "text": [
      "+-------+\n",
      "|post_id|\n",
      "+-------+\n",
      "|1048379|\n",
      "|1460361|\n",
      "+-------+\n",
      "only showing top 2 rows\n",
      "\n"
     ]
    }
   ],
   "source": [
    "inner_join.show(2)"
   ]
  },
  {
   "cell_type": "code",
   "execution_count": 81,
   "metadata": {},
   "outputs": [
    {
     "name": "stdout",
     "output_type": "stream",
     "text": [
      "+-------+--------------------+--------------------+\n",
      "|post_id|               title|                body|\n",
      "+-------+--------------------+--------------------+\n",
      "|    833|Editing database ...|<p>I have designe...|\n",
      "|   1829|How do I make a m...|<p>I've got a men...|\n",
      "|   6658|     JUnit vs TestNG|<p>At work we are...|\n",
      "|   7880|How do you open a...|<p>I want to open...|\n",
      "|   9376|ILMerge Best Prac...|<p>Do you use ILM...|\n",
      "+-------+--------------------+--------------------+\n",
      "only showing top 5 rows\n",
      "\n"
     ]
    }
   ],
   "source": [
    "df.registerTempTable('all_posts')\n",
    "inner_join.registerTempTable('relevant_ids')\n",
    "relevant_posts = spark.sql(\"\"\"\n",
    "                            SELECT all_posts.post_id, all_posts.title, all_posts.body\n",
    "                            FROM all_posts\n",
    "                            INNER JOIN relevant_ids\n",
    "                            ON all_posts.post_id = relevant_ids.post_id\n",
    "                            \"\"\")\n",
    "relevant_posts.show(5)"
   ]
  },
  {
   "cell_type": "markdown",
   "metadata": {},
   "source": [
    "### CREATE a NEW TABLE"
   ]
  },
  {
   "cell_type": "code",
   "execution_count": null,
   "metadata": {
    "collapsed": true
   },
   "outputs": [],
   "source": []
  },
  {
   "cell_type": "code",
   "execution_count": null,
   "metadata": {
    "collapsed": true
   },
   "outputs": [],
   "source": []
  },
  {
   "cell_type": "code",
   "execution_count": null,
   "metadata": {
    "collapsed": true
   },
   "outputs": [],
   "source": []
  },
  {
   "cell_type": "code",
   "execution_count": null,
   "metadata": {
    "collapsed": true
   },
   "outputs": [],
   "source": [
    "create_query = '''\n",
    "CREATE TABLE posts (\n",
    "    postid int PRIMARY KEY,\n",
    "    posttype int,\n",
    "    body text,\n",
    "    tags text)\n",
    "'''\n",
    "cur.execute(create_query)"
   ]
  },
  {
   "cell_type": "markdown",
   "metadata": {},
   "source": [
    "### INSERT DATA"
   ]
  },
  {
   "cell_type": "code",
   "execution_count": null,
   "metadata": {
    "collapsed": true
   },
   "outputs": [],
   "source": [
    "sample_file = ('data/Posts.xml')\n",
    "data = ET.iterparse(sample_file)"
   ]
  },
  {
   "cell_type": "code",
   "execution_count": null,
   "metadata": {
    "collapsed": true
   },
   "outputs": [],
   "source": [
    "insert_query = \"INSERT INTO posts (postid, posttype, body, tag) VALUES {};\""
   ]
  },
  {
   "cell_type": "code",
   "execution_count": null,
   "metadata": {
    "collapsed": true
   },
   "outputs": [],
   "source": [
    "# lis=\"google\"\n",
    "# stri= \"whoa {}\"\n",
    "# stri.format(lis)"
   ]
  },
  {
   "cell_type": "code",
   "execution_count": null,
   "metadata": {
    "collapsed": true
   },
   "outputs": [],
   "source": [
    "for event, elem in data:\n",
    "    id_data = elem.attrib.get('Id')\n",
    "    posttypeid = elem.attrib.get('PostTypeId')\n",
    "    body = elem.attrib.get('Body'), \n",
    "    tags = elem.attrib.get('Tags')\n",
    "    if tags:\n",
    "        cleaned_tag = re.sub(r'<','', tags)\n",
    "        tags = cleaned_tag.split('>')[:-1]\n",
    "        tags = ' '.join(tags)\n",
    "    cur.mogrify(\"\"\"INSERT INTO posts (postid, posttype, body, tags) VALUES ({}, {}, {}, {})\"\"\".format(id_data,posttypeid,body, tags))\n"
   ]
  },
  {
   "cell_type": "code",
   "execution_count": null,
   "metadata": {
    "collapsed": true
   },
   "outputs": [],
   "source": [
    "data = ('6', '1', '<p>I have an absolutely positioned <code>div</code> containing several children, one of which is a relatively positioned <code>div</code>. When I use a <strong>percentage-based width</strong> on the child <code>div</code>, it collapses to \\'0\\' width on <a href=\"http://en.wikipedia.org/wiki/Internet_Explorer_7\" rel=\"noreferrer\">Internet&nbsp;Explorer&nbsp;7</a>, but not on Firefox or Safari.</p>\\n\\n<p>If I use <strong>pixel width</strong>, it works. If the parent is relatively positioned, the percentage width on the child works.</p>\\n\\n<ol>\\n<li>Is there something I\\'m missing here?</li>\\n<li>Is there an easy fix for this besides the <em>pixel-based width</em> on the\\nchild?</li>\\n<li>Is there an area of the CSS specification that covers this?</li>\\n</ol>\\n', '<html><css><css3><internet-explorer-7>')"
   ]
  },
  {
   "cell_type": "code",
   "execution_count": null,
   "metadata": {
    "collapsed": true
   },
   "outputs": [],
   "source": [
    "data = ('6', '1', $$'<p>I have an absolutely positioned <code>div</code> containing several children, one of which is a relatively positioned <code>div</code>. When I use a <strong>percentage-based width</strong> on the child <code>div</code>, it collapses to \\'0\\' width on <a href=\"http://en.wikipedia.org/wiki/Internet_Explorer_7\" rel=\"noreferrer\">Internet&nbsp;Explorer&nbsp;7</a>, but not on Firefox or Safari.</p>\\n\\n<p>If I use <strong>pixel width</strong>, it works. If the parent is relatively positioned, the percentage width on the child works.</p>\\n\\n<ol>\\n<li>Is there something I\\'m missing here?</li>\\n<li>Is there an easy fix for this besides the <em>pixel-based width</em> on the\\nchild?</li>\\n<li>Is there an area of the CSS specification that covers this?</li>\\n</ol>\\n$$', '<html><css><css3><internet-explorer-7>'$$)\n",
    "data"
   ]
  },
  {
   "cell_type": "code",
   "execution_count": null,
   "metadata": {
    "collapsed": true
   },
   "outputs": [],
   "source": [
    "query = \"\"\"INSERT INTO posts (postid, posttype, body, tags) VALUES ${}$, ${}$, ${}$, ${}$\"\"\".format(id_data, posttypeid, body, tags)"
   ]
  },
  {
   "cell_type": "code",
   "execution_count": null,
   "metadata": {
    "collapsed": true
   },
   "outputs": [],
   "source": [
    "\n",
    "\n",
    "cur.execute(\"\"\"INSERT INTO posts (postid, posttype, body, tags) VALUES ('10', '1', $$'<p>I have an absolutely positioned <code>div</code> containing several children, one of which is a relatively positioned <code>div</code>. When I use a <strong>percentage-based width</strong> on the child <code>div</code>, it collapses to \\'0\\' width on <a href=\"http://en.wikipedia.org/wiki/Internet_Explorer_7\" rel=\"noreferrer\">Internet&nbsp;Explorer&nbsp;7</a>, but not on Firefox or Safari.</p>\\n\\n<p>If I use <strong>pixel width</strong>, it works. If the parent is relatively positioned, the percentage width on the child works.</p>\\n\\n<ol>\\n<li>Is there something I\\'m missing here?</li>\\n<li>Is there an easy fix for this besides the <em>pixel-based width</em> on the\\nchild?</li>\\n<li>Is there an area of the CSS specification that covers this?</li>\\n</ol>\\n'$$, $$'<html><css><css3><internet-explorer-7>'$$)\"\"\")\n",
    "\n",
    "\n",
    "id_data"
   ]
  },
  {
   "cell_type": "code",
   "execution_count": null,
   "metadata": {},
   "outputs": [],
   "source": [
    "cur.execute(\"\"\"SELECT COUNT (*) from posts\"\"\")\n",
    "cur.fetchall()"
   ]
  },
  {
   "cell_type": "code",
   "execution_count": null,
   "metadata": {
    "collapsed": true
   },
   "outputs": [],
   "source": [
    "# cur.execute(\"\"\"INSERT INTO posts (postid, posttype, body, tags) VALUES ({}, {}, $$'{}'$$, $$'{}'$$)\"\"\".format(11,1,body, tags))\n",
    "#inserted 5 extra characters in begining, 6 extrac characters at tend"
   ]
  },
  {
   "cell_type": "code",
   "execution_count": null,
   "metadata": {
    "collapsed": true
   },
   "outputs": [],
   "source": [
    "body"
   ]
  },
  {
   "cell_type": "code",
   "execution_count": null,
   "metadata": {
    "collapsed": true
   },
   "outputs": [],
   "source": []
  }
 ],
 "metadata": {
  "kernelspec": {
   "display_name": "Python 3",
   "language": "python",
   "name": "python3"
  },
  "language_info": {
   "codemirror_mode": {
    "name": "ipython",
    "version": 3
   },
   "file_extension": ".py",
   "mimetype": "text/x-python",
   "name": "python",
   "nbconvert_exporter": "python",
   "pygments_lexer": "ipython3",
   "version": "3.6.3"
  }
 },
 "nbformat": 4,
 "nbformat_minor": 2
}
